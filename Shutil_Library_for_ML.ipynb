{
  "cells": [
    {
      "cell_type": "markdown",
      "metadata": {
        "id": "view-in-github",
        "colab_type": "text"
      },
      "source": [
        "<a href=\"https://colab.research.google.com/github/guranshchugh-9/Machine-learning-basics/blob/main/Shutil_Library_for_ML.ipynb\" target=\"_parent\"><img src=\"https://colab.research.google.com/assets/colab-badge.svg\" alt=\"Open In Colab\"/></a>"
      ]
    },
    {
      "cell_type": "markdown",
      "metadata": {
        "id": "5vMpjeySLWJ-"
      },
      "source": [
        "# 🧳 Welcome to the Fun `shutil` Workshop for ML Students! 🎉\n",
        "Hey there future ML rockstars! 😎  \n",
        "Today, we’re going to explore a super handy Python module called **`shutil`** — think of it like your personal file-moving ninja 🥷.\n"
      ]
    },
    {
      "cell_type": "markdown",
      "metadata": {
        "id": "wuiTt1H7LWJ_"
      },
      "source": [
        "## 🔧 1. What is `shutil`?\n",
        "`shutil` stands for **Shell Utilities** — it helps you do things like:\n",
        "- Copy files 📄\n",
        "- Move folders 📂\n",
        "- Make backups 🗃️\n",
        "- Remove stuff 🧹\n",
        "- Compress data into `.zip` or `.tar` formats 📦"
      ]
    },
    {
      "cell_type": "markdown",
      "metadata": {
        "id": "yPB0kxOYLWJ_"
      },
      "source": [
        "🐚 What is a Shell?\n",
        "- Think of a shell as a translator 🗣️ between you and your computer's operating system (OS)."
      ]
    },
    {
      "cell_type": "markdown",
      "metadata": {
        "id": "tCl1G3iYLWKA"
      },
      "source": [
        "What are Shell Utilities?\n",
        "- tools or commands used inside a shell"
      ]
    },
    {
      "cell_type": "markdown",
      "metadata": {
        "id": "k-gsnqF4LWKA"
      },
      "source": [
        "## 🧠 BONUS: Where can you use `shutil` in ML Projects?\n",
        "- Organizing image datasets into train/test folders\n",
        "- Zipping model outputs for submission\n",
        "- Moving result files to backup folders\n",
        "- Cleaning up after experiments"
      ]
    },
    {
      "cell_type": "code",
      "execution_count": null,
      "metadata": {
        "id": "rpJp14oCLWKA"
      },
      "outputs": [],
      "source": [
        "# 🧪 Setup: Let's import it\n",
        "import shutil\n",
        "import os"
      ]
    },
    {
      "cell_type": "code",
      "execution_count": null,
      "metadata": {
        "id": "i85aqFuTLWKA"
      },
      "outputs": [],
      "source": [
        "# 📁 Create some dummy files and folders\n",
        "os.makedirs(\"demo_folder\", exist_ok=True)\n",
        "# \"exist_ok = true Don't throw an error if the folder already exists.\" 😎\n",
        "\n",
        "with open(\"demo_folder/sample1.txt\", \"w\") as f:\n",
        "    f.write(\"This is sample file 1\")\n",
        "with open(\"demo_folder/sample2.txt\", \"w\") as f:\n",
        "    f.write(\"This is sample file 2\")\n",
        "# now make a new folder blabla having file"
      ]
    },
    {
      "cell_type": "code",
      "execution_count": null,
      "metadata": {
        "id": "7yQr4_P8LWKB",
        "outputId": "b6afa7e3-d0b3-4fc9-d0d3-bce9b76ee693"
      },
      "outputs": [
        {
          "data": {
            "text/plain": [
              "'demo_folder/copy_sample1.txt'"
            ]
          },
          "execution_count": 3,
          "metadata": {},
          "output_type": "execute_result"
        }
      ],
      "source": [
        "# 📄 Copy a file from src file to destination file but not directory\n",
        "shutil.copy(\"demo_folder/sample1.txt\", \"demo_folder/copy_sample1.txt\")"
      ]
    },
    {
      "cell_type": "markdown",
      "metadata": {
        "id": "LUrlWE5mLWKB"
      },
      "source": [
        "📌 **Try this**: Copy `sample2.txt` to `copy_sample2.txt` yourself!"
      ]
    },
    {
      "cell_type": "code",
      "execution_count": null,
      "metadata": {
        "id": "U-tcXUTWLWKC",
        "outputId": "2cdadba8-5169-4dfd-af82-772d01a20c08"
      },
      "outputs": [
        {
          "data": {
            "text/plain": [
              "'copied_folder'"
            ]
          },
          "execution_count": 7,
          "metadata": {},
          "output_type": "execute_result"
        }
      ],
      "source": [
        "# 📂 Copy a whole folder from a particular dir to that dir\n",
        "shutil.copytree(\"demo_folder\", \"copied_folder\", dirs_exist_ok=True)"
      ]
    },
    {
      "cell_type": "code",
      "execution_count": null,
      "metadata": {
        "id": "nTPNWatXLWKC"
      },
      "outputs": [],
      "source": [
        "# 🧹 Remove a folder (be careful!)\n",
        "shutil.rmtree(\"copied_folder\")"
      ]
    },
    {
      "cell_type": "markdown",
      "metadata": {
        "id": "62BTjl37LWKC"
      },
      "source": [
        "📌 **Try this**: Copy `copied_folder` to `copied_folder2`."
      ]
    },
    {
      "cell_type": "code",
      "execution_count": null,
      "metadata": {
        "id": "t6w4Dd4KLWKC",
        "outputId": "10fc10a7-4f9a-44d9-e178-fd1a105dad27"
      },
      "outputs": [
        {
          "data": {
            "text/plain": [
              "'/Users/guranshchugh/Desktop/ML/python workshop gdsc/my_archive.zip'"
            ]
          },
          "execution_count": 12,
          "metadata": {},
          "output_type": "execute_result"
        }
      ],
      "source": [
        "# 📦 Zip it up!\n",
        "# (name of the file, type of the file like zip or tar or anything else, folder that i want to compress)\n",
        "shutil.make_archive(\"my_archive\", \"zip\", \"demo_folder\")\n",
        "\n",
        "# make_archive = To create compressed archive files"
      ]
    },
    {
      "cell_type": "markdown",
      "metadata": {
        "id": "3fJGrt9pLWKC"
      },
      "source": [
        "📌 **Try this**: Create a `.tar` archive instead of `.zip`."
      ]
    },
    {
      "cell_type": "code",
      "execution_count": null,
      "metadata": {
        "id": "h_prB12VLWKD",
        "outputId": "47a4cb05-5bda-4a41-d4ed-f60970af604e"
      },
      "outputs": [
        {
          "data": {
            "text/plain": [
              "'sample2_moved.txt'"
            ]
          },
          "execution_count": 10,
          "metadata": {},
          "output_type": "execute_result"
        }
      ],
      "source": [
        "# 🚚 Move files or folders\n",
        "shutil.move(\"demo_folder/sample2.txt\", \"sample2_moved.txt\")"
      ]
    },
    {
      "cell_type": "markdown",
      "metadata": {
        "id": "OgvV64a-LWKD"
      },
      "source": [
        "📌 **Try this**: Move `sample1.txt` outside `demo_folder`."
      ]
    },
    {
      "cell_type": "markdown",
      "metadata": {
        "id": "sl5SV8mmLWKD"
      },
      "source": [
        "📌 **Try this**: Remove `copied_folder2` if you created it."
      ]
    },
    {
      "cell_type": "markdown",
      "metadata": {
        "id": "blgd3rcwLWKD"
      },
      "source": [
        "###  🏁 Wrapping Up!\n",
        "---\n",
        "👾 Made with 💙 for curious coders.\n"
      ]
    }
  ],
  "metadata": {
    "kernelspec": {
      "display_name": "Python 3",
      "language": "python",
      "name": "python3"
    },
    "language_info": {
      "codemirror_mode": {
        "name": "ipython",
        "version": 3
      },
      "file_extension": ".py",
      "mimetype": "text/x-python",
      "name": "python",
      "nbconvert_exporter": "python",
      "pygments_lexer": "ipython3",
      "version": "3.10.6"
    },
    "colab": {
      "provenance": [],
      "include_colab_link": true
    }
  },
  "nbformat": 4,
  "nbformat_minor": 0
}