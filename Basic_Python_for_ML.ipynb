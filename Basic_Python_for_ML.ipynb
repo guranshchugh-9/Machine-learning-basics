{
  "metadata": {
    "kernelspec": {
      "name": "python3",
      "display_name": "Python 3",
      "language": "python"
    },
    "language_info": {
      "name": "python",
      "version": "3.11.11",
      "mimetype": "text/x-python",
      "codemirror_mode": {
        "name": "ipython",
        "version": 3
      },
      "pygments_lexer": "ipython3",
      "nbconvert_exporter": "python",
      "file_extension": ".py"
    },
    "kaggle": {
      "accelerator": "none",
      "dataSources": [],
      "dockerImageVersionId": 31012,
      "isInternetEnabled": true,
      "language": "python",
      "sourceType": "notebook",
      "isGpuEnabled": false
    },
    "colab": {
      "name": "Basic_Python_for_ML",
      "provenance": [],
      "include_colab_link": true
    }
  },
  "nbformat_minor": 0,
  "nbformat": 4,
  "cells": [
    {
      "cell_type": "markdown",
      "metadata": {
        "id": "view-in-github",
        "colab_type": "text"
      },
      "source": [
        "<a href=\"https://colab.research.google.com/github/guranshchugh-9/Machine-learning-basics/blob/main/Basic_Python_for_ML.ipynb\" target=\"_parent\"><img src=\"https://colab.research.google.com/assets/colab-badge.svg\" alt=\"Open In Colab\"/></a>"
      ]
    },
    {
      "cell_type": "markdown",
      "source": [
        "\n",
        "# 🚀 Python for Machine Learning - The Exciting Way!\n",
        "\n",
        "#### Python is the **#1** language for **Machine Learning**, and this notebook will make learning it fun, interactive, and exciting!\n"
      ],
      "metadata": {
        "id": "xHUkj20Uhrqp"
      }
    },
    {
      "cell_type": "markdown",
      "source": [
        "\n",
        "### 🚀 Let's Begin Your Python Journey!\n",
        "\n",
        "Python isn't just another programming language – it's the **go-to tool** for machine learning, data science, and automation!\n",
        "\n",
        "> 🧠 Did you know?  \n",
        "> Python was named after *Monty Python*, not the snake! Its creator, Guido van Rossum, wanted something \"short, unique, and slightly mysterious.\"\n"
      ],
      "metadata": {
        "id": "T1wG_6QThrqr"
      }
    },
    {
      "cell_type": "markdown",
      "source": [
        "### 1.1 Printing"
      ],
      "metadata": {
        "id": "BIC3X2ochrqs"
      }
    },
    {
      "cell_type": "code",
      "source": [
        "print(\"Hola !! Welcome to Python! 👋🌟\")"
      ],
      "metadata": {
        "trusted": true,
        "execution": {
          "iopub.status.busy": "2025-04-15T17:39:01.357925Z",
          "iopub.execute_input": "2025-04-15T17:39:01.35896Z",
          "iopub.status.idle": "2025-04-15T17:39:01.37001Z",
          "shell.execute_reply.started": "2025-04-15T17:39:01.358924Z",
          "shell.execute_reply": "2025-04-15T17:39:01.368914Z"
        },
        "id": "oede4hnghrqs",
        "outputId": "42d6a6f9-bfef-4697-a4cc-12a0cf0deab4",
        "colab": {
          "base_uri": "https://localhost:8080/"
        }
      },
      "outputs": [
        {
          "output_type": "stream",
          "name": "stdout",
          "text": [
            "Hola !! Welcome to Python! 👋🌟\n"
          ]
        }
      ],
      "execution_count": 1
    },
    {
      "cell_type": "code",
      "source": [
        "# Try !\n",
        "# 1) Modify the message and add emojis. 🚀\n",
        "# 2) Add your own multiline texts"
      ],
      "metadata": {
        "trusted": true,
        "execution": {
          "iopub.status.busy": "2025-04-15T17:39:01.372265Z",
          "iopub.execute_input": "2025-04-15T17:39:01.372634Z",
          "iopub.status.idle": "2025-04-15T17:39:01.393639Z",
          "shell.execute_reply.started": "2025-04-15T17:39:01.372607Z",
          "shell.execute_reply": "2025-04-15T17:39:01.392541Z"
        },
        "id": "Pqbre9j4hrqt"
      },
      "outputs": [],
      "execution_count": null
    },
    {
      "cell_type": "markdown",
      "source": [
        "\n",
        "### 🧑‍💻 Making Your Code Talk!\n",
        "\n",
        "Variables are like **memory boxes** that store information. You can ask your program to greet someone, take inputs, or even predict stock prices (okay, that's later 😄).\n"
      ],
      "metadata": {
        "id": "KKSbCAuFhrqt"
      }
    },
    {
      "cell_type": "markdown",
      "source": [
        "### 1.2 Variables & Inputs"
      ],
      "metadata": {
        "id": "zDVYShG5hrqu"
      }
    },
    {
      "cell_type": "code",
      "source": [
        "name = input(\"What's your name? >> \")\n",
        "print(f\"👋 Hey {name}! Welcome to the GDSC Workshop week !\")"
      ],
      "metadata": {
        "trusted": true,
        "execution": {
          "iopub.status.busy": "2025-04-15T17:39:01.394805Z",
          "iopub.execute_input": "2025-04-15T17:39:01.395155Z",
          "iopub.status.idle": "2025-04-15T17:39:09.905863Z",
          "shell.execute_reply.started": "2025-04-15T17:39:01.39512Z",
          "shell.execute_reply": "2025-04-15T17:39:09.904644Z"
        },
        "id": "f6i0uNRqhrqu",
        "outputId": "4ff8b55a-1f6e-4418-d24a-ad7bd085a73f",
        "colab": {
          "base_uri": "https://localhost:8080/"
        }
      },
      "outputs": [
        {
          "output_type": "stream",
          "name": "stdout",
          "text": [
            "What's your name? >> guransh\n",
            "👋 Hey guransh! Welcome to the GDSC Workshop week !\n"
          ]
        }
      ],
      "execution_count": 2
    },
    {
      "cell_type": "code",
      "source": [
        "# Try !\n",
        "# 1) Take and print multiple inputs"
      ],
      "metadata": {
        "trusted": true,
        "execution": {
          "iopub.status.busy": "2025-04-15T17:39:09.90698Z",
          "iopub.execute_input": "2025-04-15T17:39:09.907359Z",
          "iopub.status.idle": "2025-04-15T17:39:09.913502Z",
          "shell.execute_reply.started": "2025-04-15T17:39:09.907327Z",
          "shell.execute_reply": "2025-04-15T17:39:09.912141Z"
        },
        "id": "-YcBwcLchrqv"
      },
      "outputs": [],
      "execution_count": null
    },
    {
      "cell_type": "markdown",
      "source": [
        "\n",
        "### 🧮 Math is Everywhere in ML!\n",
        "\n",
        "Whether you're building a spam filter or predicting the weather, math powers the logic behind it.\n",
        "\n",
        "> 🎯 BMI Calculation Example:  \n",
        "> This is just like how a model might **assess a health record** before giving a diagnosis.\n"
      ],
      "metadata": {
        "id": "4SSQwxsUhrqv"
      }
    },
    {
      "cell_type": "markdown",
      "source": [
        "### 2.1 Arithmetic for ML"
      ],
      "metadata": {
        "id": "IzF882ynhrqv"
      }
    },
    {
      "cell_type": "code",
      "source": [
        "# Calculating BMI (Weight / Height²)\n",
        "weight = 70  # kg\n",
        "height = 1.75  # meters\n",
        "bmi = weight / (height ** 2)\n",
        "print(f\"Your BMI is: {bmi:.2f}\")  # :.2f rounds to 2 decimal places"
      ],
      "metadata": {
        "trusted": true,
        "execution": {
          "iopub.status.busy": "2025-04-15T17:39:09.916984Z",
          "iopub.execute_input": "2025-04-15T17:39:09.917605Z",
          "iopub.status.idle": "2025-04-15T17:39:09.940405Z",
          "shell.execute_reply.started": "2025-04-15T17:39:09.91756Z",
          "shell.execute_reply": "2025-04-15T17:39:09.939067Z"
        },
        "id": "gdOzFTf0hrqw",
        "outputId": "543e38e3-4e8a-4322-b050-2e703b2317d8",
        "colab": {
          "base_uri": "https://localhost:8080/"
        }
      },
      "outputs": [
        {
          "output_type": "stream",
          "name": "stdout",
          "text": [
            "Your BMI is: 22.86\n"
          ]
        }
      ],
      "execution_count": 3
    },
    {
      "cell_type": "code",
      "source": [
        "# Try !\n",
        "# Computing the Euclidean distance between two points (x1,y1) and (x2,y2)."
      ],
      "metadata": {
        "trusted": true,
        "execution": {
          "iopub.status.busy": "2025-04-15T17:39:09.941246Z",
          "iopub.execute_input": "2025-04-15T17:39:09.941492Z",
          "iopub.status.idle": "2025-04-15T17:39:09.963104Z",
          "shell.execute_reply.started": "2025-04-15T17:39:09.941468Z",
          "shell.execute_reply": "2025-04-15T17:39:09.962086Z"
        },
        "id": "766cxZe5hrqw"
      },
      "outputs": [],
      "execution_count": 4
    },
    {
      "cell_type": "markdown",
      "source": [
        "\n",
        "### ✨ Formatting is Power!\n",
        "\n",
        "When presenting results in ML, how you **communicate accuracy and results** matters. f-Strings make this easy and elegant.\n"
      ],
      "metadata": {
        "id": "oCIV1Ut9hrqw"
      }
    },
    {
      "cell_type": "markdown",
      "source": [
        "### 2.2 String Formatting (f-Strings)"
      ],
      "metadata": {
        "id": "VhGeZ1DLhrqw"
      }
    },
    {
      "cell_type": "code",
      "source": [
        "model = \"Random Forest\"\n",
        "accuracy = 0.92\n",
        "print(f\"The {model} model has an accuracy of {accuracy * 100:.1f}%! \")"
      ],
      "metadata": {
        "trusted": true,
        "execution": {
          "iopub.status.busy": "2025-04-15T17:39:09.964178Z",
          "iopub.execute_input": "2025-04-15T17:39:09.964494Z",
          "iopub.status.idle": "2025-04-15T17:39:09.989192Z",
          "shell.execute_reply.started": "2025-04-15T17:39:09.964464Z",
          "shell.execute_reply": "2025-04-15T17:39:09.9881Z"
        },
        "id": "6tXgwK1uhrqw",
        "outputId": "c55d4e01-ddad-4e25-cf96-9edf51435798",
        "colab": {
          "base_uri": "https://localhost:8080/"
        }
      },
      "outputs": [
        {
          "output_type": "stream",
          "name": "stdout",
          "text": [
            "The Random Forest model has an accuracy of 92.0%! \n"
          ]
        }
      ],
      "execution_count": 5
    },
    {
      "cell_type": "markdown",
      "source": [
        "\n",
        "### 🔁 Loop it Like a Pro!\n",
        "\n",
        "Loops are essential in machine learning. Whether it's training over 1000 images or processing records in a dataset, you'll use them everywhere.\n"
      ],
      "metadata": {
        "id": "BP8qvFEshrqx"
      }
    },
    {
      "cell_type": "markdown",
      "source": [
        "### 3.1 For Loops (Iterate Like a Pro!)"
      ],
      "metadata": {
        "id": "vAbHlroqhrqx"
      }
    },
    {
      "cell_type": "code",
      "source": [
        "# Print squares of numbers 1-10\n",
        "for i in range(1, 11):\n",
        "    print(f\"{i}² = {i ** 2}\")"
      ],
      "metadata": {
        "trusted": true,
        "execution": {
          "iopub.status.busy": "2025-04-15T17:39:09.990119Z",
          "iopub.execute_input": "2025-04-15T17:39:09.990431Z",
          "iopub.status.idle": "2025-04-15T17:39:10.013639Z",
          "shell.execute_reply.started": "2025-04-15T17:39:09.990398Z",
          "shell.execute_reply": "2025-04-15T17:39:10.012448Z"
        },
        "id": "77xH_pwdhrqx",
        "outputId": "2a070446-ccb7-4e1d-893d-d09521e8f355",
        "colab": {
          "base_uri": "https://localhost:8080/"
        }
      },
      "outputs": [
        {
          "output_type": "stream",
          "name": "stdout",
          "text": [
            "1² = 1\n",
            "2² = 4\n",
            "3² = 9\n",
            "4² = 16\n",
            "5² = 25\n",
            "6² = 36\n",
            "7² = 49\n",
            "8² = 64\n",
            "9² = 81\n",
            "10² = 100\n"
          ]
        }
      ],
      "execution_count": 6
    },
    {
      "cell_type": "code",
      "source": [
        "# Generating a list of even numbers (0 to 20)\n",
        "evens = [x for x in range(21) if x % 2 == 0]\n",
        "print(\"Even numbers:\", evens)"
      ],
      "metadata": {
        "trusted": true,
        "execution": {
          "iopub.status.busy": "2025-04-15T17:39:10.01479Z",
          "iopub.execute_input": "2025-04-15T17:39:10.01505Z",
          "iopub.status.idle": "2025-04-15T17:39:10.040384Z",
          "shell.execute_reply.started": "2025-04-15T17:39:10.014998Z",
          "shell.execute_reply": "2025-04-15T17:39:10.038914Z"
        },
        "id": "cAYMBEy7hrqx",
        "outputId": "87bd1c98-8ef3-452d-bd3c-571dcd98d504",
        "colab": {
          "base_uri": "https://localhost:8080/"
        }
      },
      "outputs": [
        {
          "output_type": "stream",
          "name": "stdout",
          "text": [
            "Even numbers: [0, 2, 4, 6, 8, 10, 12, 14, 16, 18, 20]\n"
          ]
        }
      ],
      "execution_count": 7
    },
    {
      "cell_type": "code",
      "source": [
        "# Generate an AP of terms < 50\n",
        "a, d = 3, 5\n",
        "ap = []\n",
        "term = a\n",
        "while term < 50:\n",
        "    ap.append(term)\n",
        "    term += d\n",
        "print(\"AP Series:\", ap)"
      ],
      "metadata": {
        "trusted": true,
        "execution": {
          "iopub.status.busy": "2025-04-15T17:39:10.041754Z",
          "iopub.execute_input": "2025-04-15T17:39:10.042111Z",
          "iopub.status.idle": "2025-04-15T17:39:10.064334Z",
          "shell.execute_reply.started": "2025-04-15T17:39:10.042087Z",
          "shell.execute_reply": "2025-04-15T17:39:10.063339Z"
        },
        "id": "eo6vXWhthrqx"
      },
      "outputs": [],
      "execution_count": null
    },
    {
      "cell_type": "code",
      "source": [
        "# Try !\n",
        "# Use For loop to generate a GP"
      ],
      "metadata": {
        "trusted": true,
        "execution": {
          "iopub.status.busy": "2025-04-15T17:39:10.066069Z",
          "iopub.execute_input": "2025-04-15T17:39:10.066446Z",
          "iopub.status.idle": "2025-04-15T17:39:10.088758Z",
          "shell.execute_reply.started": "2025-04-15T17:39:10.066421Z",
          "shell.execute_reply": "2025-04-15T17:39:10.087415Z"
        },
        "id": "rPn0bR8ahrqx"
      },
      "outputs": [],
      "execution_count": null
    },
    {
      "cell_type": "markdown",
      "source": [
        "\n",
        "### 🔍 Making Smart Decisions (Just like Models!)\n",
        "\n",
        "Just like your brain decides between tea or coffee ☕, ML models use **if-else logic** (hidden in math) to make predictions.\n"
      ],
      "metadata": {
        "id": "d8xU0qm2hrqy"
      }
    },
    {
      "cell_type": "markdown",
      "source": [
        "### 3.3 If-Else for Decision Making"
      ],
      "metadata": {
        "id": "TGWB02XFhrqy"
      }
    },
    {
      "cell_type": "code",
      "source": [
        "accuracy = 0.88\n",
        "if accuracy >= 0.9:\n",
        "    print(\"🌟 Excellent model!\")\n",
        "elif accuracy >= 0.7:\n",
        "    print(\"👍 Good model!\")\n",
        "else:\n",
        "    print(\"❌ Needs improvement.\")"
      ],
      "metadata": {
        "trusted": true,
        "execution": {
          "iopub.status.busy": "2025-04-15T17:39:10.089656Z",
          "iopub.execute_input": "2025-04-15T17:39:10.089944Z",
          "iopub.status.idle": "2025-04-15T17:39:10.113524Z",
          "shell.execute_reply.started": "2025-04-15T17:39:10.08992Z",
          "shell.execute_reply": "2025-04-15T17:39:10.112353Z"
        },
        "id": "K2BuPQFihrqy"
      },
      "outputs": [],
      "execution_count": null
    },
    {
      "cell_type": "code",
      "source": [
        "# List of feature names\n",
        "features = [\"age\", \"income\", \"score\"]\n",
        "features.append(\"gender\")\n",
        "print(\"Features:\", features)"
      ],
      "metadata": {
        "trusted": true,
        "execution": {
          "iopub.status.busy": "2025-04-15T17:39:10.11505Z",
          "iopub.execute_input": "2025-04-15T17:39:10.115421Z",
          "iopub.status.idle": "2025-04-15T17:39:10.137577Z",
          "shell.execute_reply.started": "2025-04-15T17:39:10.11539Z",
          "shell.execute_reply": "2025-04-15T17:39:10.136192Z"
        },
        "id": "eTgCy9DFhrqy"
      },
      "outputs": [],
      "execution_count": null
    },
    {
      "cell_type": "code",
      "source": [
        "# Try !\n",
        "# Remove the last feature using .pop()"
      ],
      "metadata": {
        "trusted": true,
        "execution": {
          "iopub.status.busy": "2025-04-15T17:39:10.141856Z",
          "iopub.execute_input": "2025-04-15T17:39:10.142952Z",
          "iopub.status.idle": "2025-04-15T17:39:10.161815Z",
          "shell.execute_reply.started": "2025-04-15T17:39:10.142913Z",
          "shell.execute_reply": "2025-04-15T17:39:10.160412Z"
        },
        "id": "yPNuK91uhrqy"
      },
      "outputs": [],
      "execution_count": null
    },
    {
      "cell_type": "markdown",
      "source": [
        "\n",
        "### 🧬 Features & Parameters: The DNA of Models\n"
      ],
      "metadata": {
        "id": "92nIKtR4hrqy"
      }
    },
    {
      "cell_type": "code",
      "source": [
        "# Model hyperparameters\n",
        "params = {\n",
        "    \"learning_rate\": 0.01,\n",
        "    \"epochs\": 100,\n",
        "    \"batch_size\": 32\n",
        "}\n",
        "print(\"Hyperparams:\", params)"
      ],
      "metadata": {
        "trusted": true,
        "execution": {
          "iopub.status.busy": "2025-04-15T17:39:10.163268Z",
          "iopub.execute_input": "2025-04-15T17:39:10.163848Z",
          "iopub.status.idle": "2025-04-15T17:39:10.188106Z",
          "shell.execute_reply.started": "2025-04-15T17:39:10.163805Z",
          "shell.execute_reply": "2025-04-15T17:39:10.186498Z"
        },
        "id": "HNbmxA94hrqy"
      },
      "outputs": [],
      "execution_count": null
    },
    {
      "cell_type": "code",
      "source": [
        "# Try !\n",
        "# Add a new key \"optimizer\": \"Adam\""
      ],
      "metadata": {
        "trusted": true,
        "execution": {
          "iopub.status.busy": "2025-04-15T17:39:10.189311Z",
          "iopub.execute_input": "2025-04-15T17:39:10.189685Z",
          "iopub.status.idle": "2025-04-15T17:39:10.211401Z",
          "shell.execute_reply.started": "2025-04-15T17:39:10.189657Z",
          "shell.execute_reply": "2025-04-15T17:39:10.209728Z"
        },
        "id": "8nwiEibHhrqy"
      },
      "outputs": [],
      "execution_count": null
    },
    {
      "cell_type": "markdown",
      "source": [
        "\n",
        "### 🚫 Duplicate Detection\n",
        "\n",
        "ML models hate repetition! Just like duplicate news articles feel annoying – our models feel the same 😆\n"
      ],
      "metadata": {
        "id": "pwR8_xoKhrqz"
      }
    },
    {
      "cell_type": "code",
      "source": [
        "# Remove duplicate labels\n",
        "labels = [\"cat\", \"dog\", \"cat\", \"bird\"]\n",
        "unique_labels = set(labels)\n",
        "print(\"Unique labels:\", unique_labels)"
      ],
      "metadata": {
        "trusted": true,
        "execution": {
          "iopub.status.busy": "2025-04-15T17:39:10.213067Z",
          "iopub.execute_input": "2025-04-15T17:39:10.213547Z",
          "iopub.status.idle": "2025-04-15T17:39:10.241219Z",
          "shell.execute_reply.started": "2025-04-15T17:39:10.213498Z",
          "shell.execute_reply": "2025-04-15T17:39:10.240011Z"
        },
        "id": "oHn-aGNIhrqz"
      },
      "outputs": [],
      "execution_count": null
    },
    {
      "cell_type": "code",
      "source": [
        "# Try !\n",
        "# Convert it back to a list."
      ],
      "metadata": {
        "trusted": true,
        "execution": {
          "iopub.status.busy": "2025-04-15T17:39:10.242337Z",
          "iopub.execute_input": "2025-04-15T17:39:10.242773Z",
          "iopub.status.idle": "2025-04-15T17:39:10.263756Z",
          "shell.execute_reply.started": "2025-04-15T17:39:10.242738Z",
          "shell.execute_reply": "2025-04-15T17:39:10.26246Z"
        },
        "id": "B0viC7cGhrqz"
      },
      "outputs": [],
      "execution_count": null
    },
    {
      "cell_type": "markdown",
      "source": [
        "\n",
        "### ⚖️ Normalize = Fair Comparison!\n"
      ],
      "metadata": {
        "id": "7HGzs0D9hrqz"
      }
    },
    {
      "cell_type": "code",
      "source": [
        "# Normalize data (scaling between 0 and 1)\n",
        "def normalize(x, min_val, max_val):\n",
        "    return (x - min_val) / (max_val - min_val)\n",
        "\n",
        "print(\"Normalized value:\", normalize(50, 0, 100))"
      ],
      "metadata": {
        "trusted": true,
        "execution": {
          "iopub.status.busy": "2025-04-15T17:39:10.265007Z",
          "iopub.execute_input": "2025-04-15T17:39:10.265433Z",
          "iopub.status.idle": "2025-04-15T17:39:10.285306Z",
          "shell.execute_reply.started": "2025-04-15T17:39:10.265398Z",
          "shell.execute_reply": "2025-04-15T17:39:10.284136Z"
        },
        "id": "tE6YBkiPhrqz"
      },
      "outputs": [],
      "execution_count": null
    },
    {
      "cell_type": "code",
      "source": [
        "# Calculate RMSE (Root Mean Squared Error)\n",
        "import math\n",
        "def rmse(pred, true):\n",
        "    return math.sqrt(sum([(p - t) ** 2 for p, t in zip(pred, true)]) / len(pred))\n",
        "\n",
        "print(\"RMSE:\", rmse([2.5, 0.0, 2, 8], [3, -0.5, 2, 7]))"
      ],
      "metadata": {
        "trusted": true,
        "execution": {
          "iopub.status.busy": "2025-04-15T17:39:10.286411Z",
          "iopub.execute_input": "2025-04-15T17:39:10.286734Z",
          "iopub.status.idle": "2025-04-15T17:39:10.309728Z",
          "shell.execute_reply.started": "2025-04-15T17:39:10.286683Z",
          "shell.execute_reply": "2025-04-15T17:39:10.308563Z"
        },
        "id": "9FbxievQhrqz"
      },
      "outputs": [],
      "execution_count": null
    },
    {
      "cell_type": "markdown",
      "source": [
        "\n",
        "### 💡 Lambda: Small but Mighty!\n"
      ],
      "metadata": {
        "id": "2BFOKmZ9hrq0"
      }
    },
    {
      "cell_type": "code",
      "source": [
        "# Square a number using lambda\n",
        "square = lambda x: x ** 2\n",
        "print(\"5 squared:\", square(5))"
      ],
      "metadata": {
        "trusted": true,
        "execution": {
          "iopub.status.busy": "2025-04-15T17:39:10.310919Z",
          "iopub.execute_input": "2025-04-15T17:39:10.311332Z",
          "iopub.status.idle": "2025-04-15T17:39:10.335337Z",
          "shell.execute_reply.started": "2025-04-15T17:39:10.311296Z",
          "shell.execute_reply": "2025-04-15T17:39:10.334255Z"
        },
        "id": "twMGUol8hrq0"
      },
      "outputs": [],
      "execution_count": null
    },
    {
      "cell_type": "code",
      "source": [
        "# Cube using lambda\n",
        "cube = lambda x: x ** 3\n",
        "print(\"3 cubed:\", cube(3))"
      ],
      "metadata": {
        "trusted": true,
        "execution": {
          "iopub.status.busy": "2025-04-15T17:39:10.336505Z",
          "iopub.execute_input": "2025-04-15T17:39:10.33679Z",
          "iopub.status.idle": "2025-04-15T17:39:10.360076Z",
          "shell.execute_reply.started": "2025-04-15T17:39:10.336767Z",
          "shell.execute_reply": "2025-04-15T17:39:10.358692Z"
        },
        "id": "SPtiOpLohrq0"
      },
      "outputs": [],
      "execution_count": null
    },
    {
      "cell_type": "markdown",
      "source": [
        "\n",
        "### 📂 Saving Your Work\n"
      ],
      "metadata": {
        "id": "b4shddERhrrE"
      }
    },
    {
      "cell_type": "code",
      "source": [
        "# Save model predictions\n",
        "predictions = [0.1, 0.9, 0.3, 0.8]\n",
        "with open(\"predictions.txt\", \"w\") as f:\n",
        "    for pred in predictions:\n",
        "        f.write(f\"{pred}\\n\")\n",
        "print(\"✅ Predictions saved!\")"
      ],
      "metadata": {
        "trusted": true,
        "execution": {
          "iopub.status.busy": "2025-04-15T17:39:10.361371Z",
          "iopub.execute_input": "2025-04-15T17:39:10.361769Z",
          "iopub.status.idle": "2025-04-15T17:39:10.386171Z",
          "shell.execute_reply.started": "2025-04-15T17:39:10.361736Z",
          "shell.execute_reply": "2025-04-15T17:39:10.385163Z"
        },
        "id": "Gs1cSYadhrrE"
      },
      "outputs": [],
      "execution_count": null
    },
    {
      "cell_type": "code",
      "source": [
        "# Load predictions and compute average\n",
        "with open(\"predictions.txt\", \"r\") as f:\n",
        "    loaded_preds = [float(line.strip()) for line in f]\n",
        "print(\"Loaded predictions:\", loaded_preds)\n",
        "print(\"Average prediction:\", sum(loaded_preds) / len(loaded_preds))"
      ],
      "metadata": {
        "trusted": true,
        "execution": {
          "iopub.status.busy": "2025-04-15T17:39:10.387108Z",
          "iopub.execute_input": "2025-04-15T17:39:10.38738Z",
          "iopub.status.idle": "2025-04-15T17:39:10.411836Z",
          "shell.execute_reply.started": "2025-04-15T17:39:10.387358Z",
          "shell.execute_reply": "2025-04-15T17:39:10.410695Z"
        },
        "id": "E_PyvAeOhrrF"
      },
      "outputs": [],
      "execution_count": null
    },
    {
      "cell_type": "code",
      "source": [
        "# Try !\n",
        "# Find the largest predicton from the file"
      ],
      "metadata": {
        "trusted": true,
        "execution": {
          "iopub.status.busy": "2025-04-15T17:39:10.413125Z",
          "iopub.execute_input": "2025-04-15T17:39:10.413529Z",
          "iopub.status.idle": "2025-04-15T17:39:10.433052Z",
          "shell.execute_reply.started": "2025-04-15T17:39:10.413495Z",
          "shell.execute_reply": "2025-04-15T17:39:10.431813Z"
        },
        "id": "s6UFgsJyhrrF"
      },
      "outputs": [],
      "execution_count": null
    },
    {
      "cell_type": "markdown",
      "source": [
        "\n",
        "### 🎲 Randomized Simulations\n"
      ],
      "metadata": {
        "id": "PZHHfa6KhrrF"
      }
    },
    {
      "cell_type": "code",
      "source": [
        "import random\n",
        "ages = [random.randint(18, 99) for _ in range(10)]\n",
        "print(\"Random ages:\", ages)"
      ],
      "metadata": {
        "trusted": true,
        "execution": {
          "iopub.status.busy": "2025-04-15T17:39:10.434337Z",
          "iopub.execute_input": "2025-04-15T17:39:10.43492Z",
          "iopub.status.idle": "2025-04-15T17:39:10.45748Z",
          "shell.execute_reply.started": "2025-04-15T17:39:10.43489Z",
          "shell.execute_reply": "2025-04-15T17:39:10.456094Z"
        },
        "id": "w5PkQn_FhrrF"
      },
      "outputs": [],
      "execution_count": null
    },
    {
      "cell_type": "code",
      "source": [
        "salaries = [random.randint(30000, 150000) for _ in range(10)]\n",
        "print(\"Random salaries:\", salaries)"
      ],
      "metadata": {
        "trusted": true,
        "execution": {
          "iopub.status.busy": "2025-04-15T17:39:10.460287Z",
          "iopub.execute_input": "2025-04-15T17:39:10.460592Z",
          "iopub.status.idle": "2025-04-15T17:39:10.482122Z",
          "shell.execute_reply.started": "2025-04-15T17:39:10.46057Z",
          "shell.execute_reply": "2025-04-15T17:39:10.480993Z"
        },
        "id": "tkMKBz6ZhrrF"
      },
      "outputs": [],
      "execution_count": null
    },
    {
      "cell_type": "markdown",
      "source": [
        "\n",
        "### 🧠 Sigmoid: The Brain of Logistic Regression\n"
      ],
      "metadata": {
        "id": "kPwg4U6AhrrF"
      }
    },
    {
      "cell_type": "code",
      "source": [
        "import math\n",
        "\n",
        "def sigmoid(x):\n",
        "    return 1 / (1 + math.exp(-x))\n",
        "\n",
        "# Sigmoid\n",
        "# Sigmoid is used to map outputs to probabilities.\n",
        "# 1 / (1 + e^(-x))\n",
        "\n",
        "print(\"Sigmoid(0) =\", sigmoid(0))\n",
        "print(\"Sigmoid(-1) =\", sigmoid(-1))"
      ],
      "metadata": {
        "trusted": true,
        "execution": {
          "iopub.status.busy": "2025-04-15T17:39:10.483575Z",
          "iopub.execute_input": "2025-04-15T17:39:10.483964Z",
          "iopub.status.idle": "2025-04-15T17:39:10.507888Z",
          "shell.execute_reply.started": "2025-04-15T17:39:10.483925Z",
          "shell.execute_reply": "2025-04-15T17:39:10.506682Z"
        },
        "id": "nPC4_HONhrrF"
      },
      "outputs": [],
      "execution_count": null
    }
  ]
}